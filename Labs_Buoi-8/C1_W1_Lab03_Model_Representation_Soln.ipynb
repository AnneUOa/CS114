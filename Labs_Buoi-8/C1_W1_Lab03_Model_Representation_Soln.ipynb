{
 "cells": [
  {
   "cell_type": "markdown",
   "metadata": {
    "pycharm": {
     "name": "#%% md\n"
    }
   },
   "source": [
    "# Optional Lab: Model Representation\n",
    "\n",
    "<figure>\n",
    " <img src=\"./images/C1_W1_L3_S1_Lecture_b.png\"   style=\"width:600px;height:200px;\">\n",
    "</figure>"
   ]
  },
  {
   "cell_type": "markdown",
   "metadata": {
    "pycharm": {
     "name": "#%% md\n"
    }
   },
   "source": [
    "## Goals\n",
    "In this lab you will:\n",
    "- Learn to implement the model $f_{w,b}$ for linear regression with one variable"
   ]
  },
  {
   "cell_type": "markdown",
   "metadata": {
    "pycharm": {
     "name": "#%% md\n"
    }
   },
   "source": [
    "## Notation\n",
    "Here is a summary of some of the notation you will encounter.  \n",
    "\n",
    "|General <img width=70/> <br />  Notation  <img width=70/> | Description<img width=350/>| Python (if applicable) |\n",
    "|: ------------|: ------------------------------------------------------------||\n",
    "| $a$ | scalar, non bold                                                      ||\n",
    "| $\\mathbf{a}$ | vector, bold                                                      ||\n",
    "| **Regression** |         |    |     |\n",
    "|  $\\mathbf{x}$ | Training Example feature values (in this lab - Size (1000 sqft))  | `x_train` |   \n",
    "|  $\\mathbf{y}$  | Training Example  targets (in this lab Price (1000s of dollars)).  | `y_train` \n",
    "|  $x^{(i)}$, $y^{(i)}$ | $i_{th}$Training Example | `x_i`, `y_i`|\n",
    "| m | Number of training examples | `m`|\n",
    "|  $w$  |  parameter: weight,                                 | `w`    |\n",
    "|  $b$           |  parameter: bias                                           | `b`    |     \n",
    "| $f_{w,b}(x^{(i)})$ | The result of the model evaluation at $x^{(i)}$ parameterized by $w,b$: $f_{w,b}(x^{(i)}) = wx^{(i)}+b$  | `f_wb` | \n"
   ]
  },
  {
   "cell_type": "markdown",
   "metadata": {
    "pycharm": {
     "name": "#%% md\n"
    }
   },
   "source": [
    "## Tools\n",
    "In this lab you will make use of: \n",
    "- NumPy, a popular library for scientific computing\n",
    "- Matplotlib, a popular library for plotting data"
   ]
  },
  {
   "cell_type": "code",
   "execution_count": 1,
   "metadata": {
    "pycharm": {
     "name": "#%%\n"
    }
   },
   "outputs": [],
   "source": [
    "import numpy as np\n",
    "import pandas as pd\n",
    "import matplotlib.pyplot as plt\n",
    "plt.style.use('./deeplearning.mplstyle')"
   ]
  },
  {
   "cell_type": "markdown",
   "metadata": {
    "pycharm": {
     "name": "#%% md\n"
    }
   },
   "source": [
    "# Problem Statement\n",
    "<img align=\"left\" src=\"./images/C1_W1_L3_S1_trainingdata.png\"    style=\" width:380px; padding: 10px;  \" /> \n",
    "\n",
    "As in the lecture, you will use the motivating example of housing price prediction.  \n",
    "This lab will use a simple data set with only two data points - a house with 1000 square feet(sqft) sold for \\\\$300,000 and a house with 2000 square feet sold for \\\\$500,000. These two points will constitute our *data or training set*. In this lab, the units of size are 1000 sqft and the units of price are 1000s of dollars.\n",
    "\n",
    "| Size (1000 sqft)     | Price (1000s of dollars) |\n",
    "| -------------------| ------------------------ |\n",
    "| 1.0               | 300                      |\n",
    "| 2.0               | 500                      |\n",
    "\n",
    "You would like to fit a linear regression model (shown above as the blue straight line) through these two points, so you can then predict price for other houses - say, a house with 1200 sqft.\n"
   ]
  },
  {
   "cell_type": "markdown",
   "metadata": {
    "pycharm": {
     "name": "#%% md\n"
    }
   },
   "source": [
    "Please run the following code cell to create your `x_train` and `y_train` variables. The data is stored in one-dimensional NumPy arrays."
   ]
  },
  {
   "cell_type": "code",
   "execution_count": 2,
   "metadata": {
    "pycharm": {
     "name": "#%%\n"
    }
   },
   "outputs": [
    {
     "name": "stdout",
     "output_type": "stream",
     "text": [
      "x_train = [1. 2.]\n",
      "y_train = [300. 500.]\n"
     ]
    }
   ],
   "source": [
    "# x_train is the input variable (size in 1000 square feet)\n",
    "# y_train is the target (price in 1000s of dollars)\n",
    "x_train = np.array([1.0, 2.0])\n",
    "y_train = np.array([300.0, 500.0])\n",
    "print(f\"x_train = {x_train}\")\n",
    "print(f\"y_train = {y_train}\")"
   ]
  },
  {
   "cell_type": "code",
   "execution_count": 3,
   "id": "3b89c886",
   "metadata": {},
   "outputs": [
    {
     "name": "stdout",
     "output_type": "stream",
     "text": [
      "x_train = [13300000 12250000 12250000 12215000 11410000 10850000 10150000 10150000\n",
      "  9870000  9800000  9800000  9681000  9310000  9240000  9240000  9100000\n",
      "  9100000  8960000  8890000  8855000  8750000  8680000  8645000  8645000\n",
      "  8575000  8540000  8463000  8400000  8400000  8400000  8400000  8400000\n",
      "  8295000  8190000  8120000  8080940  8043000  7980000  7962500  7910000\n",
      "  7875000  7840000  7700000  7700000  7560000  7560000  7525000  7490000\n",
      "  7455000  7420000  7420000  7420000  7350000  7350000  7350000  7350000\n",
      "  7343000  7245000  7210000  7210000  7140000  7070000  7070000  7035000\n",
      "  7000000  6930000  6930000  6895000  6860000  6790000  6790000  6755000\n",
      "  6720000  6685000  6650000  6650000  6650000  6650000  6650000  6650000\n",
      "  6629000  6615000  6615000  6580000  6510000  6510000  6510000  6475000\n",
      "  6475000  6440000  6440000  6419000  6405000  6300000  6300000  6300000\n",
      "  6300000  6300000  6293000  6265000  6230000  6230000  6195000  6195000\n",
      "  6195000  6160000  6160000  6125000  6107500  6090000  6090000  6090000\n",
      "  6083000  6083000  6020000  6020000  6020000  5950000  5950000  5950000\n",
      "  5950000  5950000  5950000  5950000  5950000  5943000  5880000  5880000\n",
      "  5873000  5873000  5866000  5810000  5810000  5810000  5803000  5775000\n",
      "  5740000  5740000  5740000  5740000  5740000  5652500  5600000  5600000\n",
      "  5600000  5600000  5600000  5600000  5600000  5600000  5600000  5565000\n",
      "  5565000  5530000  5530000  5530000  5523000  5495000  5495000  5460000\n",
      "  5460000  5460000  5460000  5425000  5390000  5383000  5320000  5285000\n",
      "  5250000  5250000  5250000  5250000  5250000  5250000  5250000  5250000\n",
      "  5250000  5243000  5229000  5215000  5215000  5215000  5145000  5145000\n",
      "  5110000  5110000  5110000  5110000  5075000  5040000  5040000  5040000\n",
      "  5040000  5033000  5005000  4970000  4970000  4956000  4935000  4907000\n",
      "  4900000  4900000  4900000  4900000  4900000  4900000  4900000  4900000\n",
      "  4900000  4900000  4900000  4900000  4893000  4893000  4865000  4830000\n",
      "  4830000  4830000  4830000  4795000  4795000  4767000  4760000  4760000\n",
      "  4760000  4753000  4690000  4690000  4690000  4690000  4690000  4690000\n",
      "  4655000  4620000  4620000  4620000  4620000  4620000  4613000  4585000\n",
      "  4585000  4550000  4550000  4550000  4550000  4550000  4550000  4550000\n",
      "  4543000  4543000  4515000  4515000  4515000  4515000  4480000  4480000\n",
      "  4480000  4480000  4480000  4473000  4473000  4473000  4445000  4410000\n",
      "  4410000  4403000  4403000  4403000  4382000  4375000  4340000  4340000\n",
      "  4340000  4340000  4340000  4319000  4305000  4305000  4277000  4270000\n",
      "  4270000  4270000  4270000  4270000  4270000  4235000  4235000  4200000\n",
      "  4200000  4200000  4200000  4200000  4200000  4200000  4200000  4200000\n",
      "  4200000  4200000  4200000  4200000  4200000  4200000  4200000  4200000\n",
      "  4193000  4193000  4165000  4165000  4165000  4130000  4130000  4123000\n",
      "  4098500  4095000  4095000  4095000  4060000  4060000  4060000  4060000\n",
      "  4060000  4025000  4025000  4025000  4007500  4007500  3990000  3990000\n",
      "  3990000  3990000  3990000  3920000  3920000  3920000  3920000  3920000\n",
      "  3920000  3920000  3885000  3885000  3850000  3850000  3850000  3850000\n",
      "  3850000  3850000  3850000  3836000  3815000  3780000  3780000  3780000\n",
      "  3780000  3780000  3780000  3773000  3773000  3773000  3745000  3710000\n",
      "  3710000  3710000  3710000  3710000  3703000  3703000  3675000  3675000\n",
      "  3675000  3675000  3640000  3640000  3640000  3640000  3640000  3640000\n",
      "  3640000  3640000  3640000  3633000  3605000  3605000  3570000  3570000\n",
      "  3570000  3570000  3535000  3500000  3500000  3500000  3500000  3500000\n",
      "  3500000  3500000  3500000  3500000  3500000  3500000  3500000  3500000\n",
      "  3500000  3500000  3500000  3500000  3493000  3465000  3465000  3465000\n",
      "  3430000  3430000  3430000  3430000  3430000  3430000  3423000  3395000\n",
      "  3395000  3395000  3360000  3360000  3360000  3360000  3360000  3360000\n",
      "  3360000  3360000  3353000  3332000  3325000  3325000  3290000  3290000\n",
      "  3290000  3290000  3290000  3290000  3290000  3290000  3255000  3255000\n",
      "  3234000  3220000  3220000  3220000  3220000  3150000  3150000  3150000\n",
      "  3150000  3150000  3150000  3150000  3150000  3150000  3143000  3129000\n",
      "  3118850  3115000  3115000  3115000  3087000  3080000  3080000  3080000\n",
      "  3080000  3045000  3010000  3010000  3010000  3010000  3010000  3010000\n",
      "  3010000  3003000  2975000  2961000  2940000  2940000  2940000  2940000\n",
      "  2940000  2940000  2940000  2940000  2870000  2870000  2870000  2870000\n",
      "  2852500  2835000  2835000  2835000  2800000  2800000  2730000  2730000\n",
      "  2695000  2660000  2660000  2660000  2660000  2660000  2660000  2660000\n",
      "  2653000  2653000  2604000  2590000  2590000  2590000  2520000  2520000\n",
      "  2520000  2485000  2485000  2450000  2450000  2450000  2450000  2450000\n",
      "  2450000  2408000  2380000  2380000  2380000  2345000  2310000  2275000\n",
      "  2275000  2275000  2240000  2233000  2135000  2100000  2100000  2100000\n",
      "  1960000  1890000  1890000  1855000  1820000  1767150  1750000  1750000\n",
      "  1750000]\n",
      "y_train = [ 7420  8960  9960  7500  7420  7500  8580 16200  8100  5750 13200  6000\n",
      "  6550  3500  7800  6000  6600  8500  4600  6420  4320  7155  8050  4560\n",
      "  8800  6540  6000  8875  7950  5500  7475  7000  4880  5960  6840  7000\n",
      "  7482  9000  6000  6000  6550  6360  6480  6000  6000  6000  6000  6600\n",
      "  4300  7440  7440  6325  6000  5150  6000  6000 11440  9000  7680  6000\n",
      "  6000  8880  6240  6360 11175  8880 13200  7700  6000 12090  4000  6000\n",
      "  5020  6600  4040  4260  6420  6500  5700  6000  6000  4000 10500  6000\n",
      "  3760  8250  6670  3960  7410  8580  5000  6750  4800  7200  6000  4100\n",
      "  9000  6400  6600  6000  6600  5500  5500  6350  5500  4500  5450  6420\n",
      "  3240  6615  6600  8372  4300  9620  6800  8000  6900  3700  6420  7020\n",
      "  6540  7231  6254  7320  6525 15600  7160  6500  5500 11460  4800  5828\n",
      "  5200  4800  7000  6000  5400  4640  5000  6360  5800  6660 10500  4800\n",
      "  4700  5000 10500  5500  6360  6600  5136  4400  5400  3300  3650  6100\n",
      "  6900  2817  7980  3150  6210  6100  6600  6825  6710  6450  7800  4600\n",
      "  4260  6540  5500 10269  8400  5300  3800  9800  8520  6050  7085  3180\n",
      "  4500  7200  3410  7980  3000  3000 11410  6100  5720  3540  7600 10700\n",
      "  6600  4800  8150  4410  7686  2800  5948  4200  4520  4095  4120  5400\n",
      "  4770  6300  5800  3000  2970  6720  4646 12900  3420  4995  4350  4160\n",
      "  6040  6862  4815  7000  8100  3420  9166  6321 10240  6440  5170  6000\n",
      "  3630  9667  5400  4320  3745  4160  3880  5680  2870  5010  4510  4000\n",
      "  3840  3760  3640  2550  5320  5360  3520  8400  4100  4990  3510  3450\n",
      "  9860  3520  4510  5885  4000  8250  4040  6360  3162  3510  3750  3968\n",
      "  4900  2880  4880  4920  4950  3900  4500  1905  4075  3500  6450  4032\n",
      "  4400 10360  3400  6360  6360  4500  2175  4360  7770  6650  2787  5500\n",
      "  5040  5850  2610  2953  2747  4410  4000  2325  4600  3640  5800  7000\n",
      "  4079  3520  2145  4500  8250  3450  4840  4080  4046  4632  5985  6060\n",
      "  3600  3680  4040  5600  5900  4992  4340  3000  4320  3630  3460  5400\n",
      "  4500  3460  4100  6480  4500  3960  4050  7260  5500  3000  3290  3816\n",
      "  8080  2145  3780  3180  5300  3180  7152  4080  3850  2015  2176  3350\n",
      "  3150  4820  3420  3600  5830  2856  8400  8250  2520  6930  3480  3600\n",
      "  4040  6020  4050  3584  3120  5450  3630  3630  5640  3600  4280  3570\n",
      "  3180  3000  3520  5960  4130  2850  2275  3520  4500  4000  3150  4500\n",
      "  4500  3640  3850  4240  3650  4600  2135  3036  3990  7424  3480  3600\n",
      "  3640  5900  3120  7350  3512  9500  5880 12944  4900  3060  5320  2145\n",
      "  4000  3185  3850  2145  2610  1950  4040  4785  3450  3640  3500  4960\n",
      "  4120  4750  3720  3750  3100  3185  2700  2145  4040  4775  2500  3180\n",
      "  6060  3480  3792  4040  2145  5880  4500  3930  3640  4370  2684  4320\n",
      "  3120  3450  3986  3500  4095  1650  3450  6750  9000  3069  4500  5495\n",
      "  2398  3000  3850  3500  8100  4960  2160  3090  4500  3800  3090  3240\n",
      "  2835  4600  5076  3750  3630  8050  4352  3000  5850  4960  3600  3660\n",
      "  3480  2700  3150  6615  3040  3630  6000  5400  5200  3300  4350  2640\n",
      "  2650  3960  6800  4000  4000  3934  2000  3630  2800  2430  3480  4000\n",
      "  3185  4000  2910  3600  4400  3600  2880  3180  3000  4400  3000  3210\n",
      "  3240  3000  3500  4840  7700  3635  2475  2787  3264  3640  3180  1836\n",
      "  3970  3970  1950  5300  3000  2400  3000  3360  3420  1700  3649  2990\n",
      "  3000  2400  3620  2910  3850]\n"
     ]
    }
   ],
   "source": [
    "df = pd.read_csv(\"Housing.csv\")\n",
    "x_train = np.array(df['price'])\n",
    "y_train = np.array(df['area'])\n",
    "print(f\"x_train = {x_train}\")\n",
    "print(f\"y_train = {y_train}\")"
   ]
  },
  {
   "cell_type": "markdown",
   "metadata": {
    "pycharm": {
     "name": "#%% md\n"
    }
   },
   "source": [
    ">**Note**: The course will frequently utilize the python 'f-string' output formatting described [here](https://docs.python.org/3/tutorial/inputoutput.html) when printing. The content between the curly braces is evaluated when producing the output."
   ]
  },
  {
   "cell_type": "markdown",
   "metadata": {
    "pycharm": {
     "name": "#%% md\n"
    }
   },
   "source": [
    "### Number of training examples `m`\n",
    "You will use `m` to denote the number of training examples. Numpy arrays have a `.shape` parameter. `x_train.shape` returns a python tuple with an entry for each dimension. `x_train.shape[0]` is the length of the array and number of examples as shown below."
   ]
  },
  {
   "cell_type": "code",
   "execution_count": 4,
   "metadata": {
    "pycharm": {
     "name": "#%%\n"
    }
   },
   "outputs": [
    {
     "name": "stdout",
     "output_type": "stream",
     "text": [
      "x_train.shape: (545,)\n",
      "Number of training examples is: 545\n"
     ]
    }
   ],
   "source": [
    "# m is the number of training examples\n",
    "print(f\"x_train.shape: {x_train.shape}\")\n",
    "m = x_train.shape[0]\n",
    "print(f\"Number of training examples is: {m}\")"
   ]
  },
  {
   "cell_type": "markdown",
   "metadata": {
    "pycharm": {
     "name": "#%% md\n"
    }
   },
   "source": [
    "One can also use the Python `len()` function as shown below."
   ]
  },
  {
   "cell_type": "code",
   "execution_count": 5,
   "metadata": {
    "pycharm": {
     "name": "#%%\n"
    }
   },
   "outputs": [
    {
     "name": "stdout",
     "output_type": "stream",
     "text": [
      "Number of training examples is: 545\n"
     ]
    }
   ],
   "source": [
    "# m is the number of training examples\n",
    "m = len(x_train)\n",
    "print(f\"Number of training examples is: {m}\")"
   ]
  },
  {
   "cell_type": "markdown",
   "metadata": {
    "pycharm": {
     "name": "#%% md\n"
    }
   },
   "source": [
    "### Training example `x_i, y_i`\n",
    "\n",
    "You will use (x$^{(i)}$, y$^{(i)}$) to denote the $i^{th}$ training example. Since Python is zero indexed, (x$^{(0)}$, y$^{(0)}$) is (1.0, 300.0) and (x$^{(1)}$, y$^{(1)}$) is (2.0, 500.0). \n",
    "\n",
    "To access a value in a Numpy array, one indexes the array with the desired offset. For example the syntax to access location zero of `x_train` is `x_train[0]`.\n",
    "Run the next code block below to get the $i^{th}$ training example."
   ]
  },
  {
   "cell_type": "code",
   "execution_count": 6,
   "metadata": {
    "pycharm": {
     "name": "#%%\n"
    }
   },
   "outputs": [
    {
     "name": "stdout",
     "output_type": "stream",
     "text": [
      "(x^(0), y^(0)) = (13300000, 7420)\n"
     ]
    }
   ],
   "source": [
    "i = 0 # Change this to 1 to see (x^1, y^1)\n",
    "\n",
    "x_i = x_train[i]\n",
    "y_i = y_train[i]\n",
    "print(f\"(x^({i}), y^({i})) = ({x_i}, {y_i})\")"
   ]
  },
  {
   "cell_type": "markdown",
   "metadata": {
    "pycharm": {
     "name": "#%% md\n"
    }
   },
   "source": [
    "### Plotting the data"
   ]
  },
  {
   "cell_type": "markdown",
   "metadata": {
    "pycharm": {
     "name": "#%% md\n"
    }
   },
   "source": [
    "You can plot these two points using the `scatter()` function in the `matplotlib` library, as shown in the cell below. \n",
    "- The function arguments `marker` and `c` show the points as red crosses (the default is blue dots).\n",
    "\n",
    "You can use other functions in the `matplotlib` library to set the title and labels to display"
   ]
  },
  {
   "cell_type": "code",
   "execution_count": 7,
   "metadata": {
    "pycharm": {
     "name": "#%%\n"
    }
   },
   "outputs": [
    {
     "data": {
      "image/png": "[encoded data removed]",
      "text/plain": [
       "<Figure size 640x480 with 1 Axes>"
      ]
     },
     "metadata": {},
     "output_type": "display_data"
    }
   ],
   "source": [
    "# Plot the data points\n",
    "plt.scatter(x_train, y_train, marker='x', c='r')\n",
    "# Set the title\n",
    "plt.title(\"Housing Prices\")\n",
    "# Set the y-axis label\n",
    "plt.ylabel('Price (in 1000s of dollars)')\n",
    "# Set the x-axis label\n",
    "plt.xlabel('Size (1000 sqft)')\n",
    "plt.show()"
   ]
  },
  {
   "cell_type": "markdown",
   "metadata": {
    "pycharm": {
     "name": "#%% md\n"
    }
   },
   "source": [
    "## Model function\n",
    "\n",
    "<img align=\"left\" src=\"./images/C1_W1_L3_S1_model.png\"     style=\" width:380px; padding: 10px; \" > As described in lecture, the model function for linear regression (which is a function that maps from `x` to `y`) is represented as \n",
    "\n",
    "$$ f_{w,b}(x^{(i)}) = wx^{(i)} + b \\tag{1}$$\n",
    "\n",
    "The formula above is how you can represent straight lines - different values of $w$ and $b$ give you different straight lines on the plot. <br/> <br/> <br/> <br/> <br/> \n",
    "\n",
    "Let's try to get a better intuition for this through the code blocks below. Let's start with $w = 100$ and $b = 100$. \n",
    "\n",
    "**Note: You can come back to this cell to adjust the model's w and b parameters**"
   ]
  },
  {
   "cell_type": "code",
   "execution_count": 8,
   "metadata": {
    "pycharm": {
     "name": "#%%\n"
    }
   },
   "outputs": [
    {
     "name": "stdout",
     "output_type": "stream",
     "text": [
      "w: 100\n",
      "b: 100\n"
     ]
    }
   ],
   "source": [
    "w = 100\n",
    "b = 100\n",
    "print(f\"w: {w}\")\n",
    "print(f\"b: {b}\")"
   ]
  },
  {
   "cell_type": "markdown",
   "metadata": {
    "pycharm": {
     "name": "#%% md\n"
    }
   },
   "source": [
    "Now, let's compute the value of $f_{w,b}(x^{(i)})$ for your two data points. You can explicitly write this out for each data point as - \n",
    "\n",
    "for $x^{(0)}$, `f_wb = w * x[0] + b`\n",
    "\n",
    "for $x^{(1)}$, `f_wb = w * x[1] + b`\n",
    "\n",
    "For a large number of data points, this can get unwieldy and repetitive. So instead, you can calculate the function output in a `for` loop as shown in the `compute_model_output` function below.\n",
    "> **Note**: The argument description `(ndarray (m,))` describes a Numpy n-dimensional array of shape (m,). `(scalar)` describes an argument without dimensions, just a magnitude.  \n",
    "> **Note**: `np.zero(n)` will return a one-dimensional numpy array with $n$ entries   \n"
   ]
  },
  {
   "cell_type": "code",
   "execution_count": 9,
   "metadata": {
    "pycharm": {
     "name": "#%%\n"
    }
   },
   "outputs": [],
   "source": [
    "def compute_model_output(x, w, b):\n",
    "    \"\"\"\n",
    "    Computes the prediction of a linear model\n",
    "    Args:\n",
    "      x (ndarray (m,)): Data, m examples \n",
    "      w,b (scalar)    : model parameters  \n",
    "    Returns\n",
    "      y (ndarray (m,)): target values\n",
    "    \"\"\"\n",
    "    m = x.shape[0]\n",
    "    f_wb = np.zeros(m)\n",
    "    for i in range(m):\n",
    "        f_wb[i] = w * x[i] + b\n",
    "        \n",
    "    return f_wb"
   ]
  },
  {
   "cell_type": "markdown",
   "metadata": {
    "pycharm": {
     "name": "#%% md\n"
    }
   },
   "source": [
    "Now let's call the `compute_model_output` function and plot the output.."
   ]
  },
  {
   "cell_type": "code",
   "execution_count": 10,
   "metadata": {
    "pycharm": {
     "name": "#%%\n"
    }
   },
   "outputs": [
    {
     "data": {
      "image/png": "[encoded data removed]",
      "text/plain": [
       "<Figure size 640x480 with 1 Axes>"
      ]
     },
     "metadata": {},
     "output_type": "display_data"
    }
   ],
   "source": [
    "tmp_f_wb = compute_model_output(x_train, w, b,)\n",
    "\n",
    "# Plot our model prediction\n",
    "plt.plot(x_train, tmp_f_wb, c='b',label='Our Prediction')\n",
    "\n",
    "# Plot the data points\n",
    "plt.scatter(x_train, y_train, marker='x', c='r',label='Actual Values')\n",
    "\n",
    "# Set the title\n",
    "plt.title(\"Housing Prices\")\n",
    "# Set the y-axis label\n",
    "plt.ylabel('Price (in 1000s of dollars)')\n",
    "# Set the x-axis label\n",
    "plt.xlabel('Size (1000 sqft)')\n",
    "plt.legend()\n",
    "plt.show()"
   ]
  },
  {
   "cell_type": "markdown",
   "metadata": {
    "pycharm": {
     "name": "#%% md\n"
    }
   },
   "source": [
    "As you can see, setting $w = 100$ and $b = 100$ does *not* result in a line that fits our data. \n",
    "\n",
    "### Challenge\n",
    "Try experimenting with different values of $w$ and $b$. What should the values be for a line that fits our data?\n",
    "\n",
    "#### Tip:\n",
    "You can use your mouse to click on the triangle to the left of the green \"Hints\" below to reveal some hints for choosing b and w."
   ]
  },
  {
   "cell_type": "markdown",
   "metadata": {
    "pycharm": {
     "name": "#%% md\n"
    }
   },
   "source": [
    "<details>\n",
    "<summary>\n",
    "    <font size='3', color='darkgreen'><b>Hints</b></font>\n",
    "</summary>\n",
    "    <p>\n",
    "    <ul>\n",
    "        <li>Try $w = 200$ and $b = 100$ </li>\n",
    "    </ul>\n",
    "    </p>"
   ]
  },
  {
   "cell_type": "markdown",
   "metadata": {
    "pycharm": {
     "name": "#%% md\n"
    }
   },
   "source": [
    "### Prediction\n",
    "Now that we have a model, we can use it to make our original prediction. Let's predict the price of a house with 1200 sqft. Since the units of $x$ are in 1000's of sqft, $x$ is 1.2.\n"
   ]
  },
  {
   "cell_type": "code",
   "execution_count": 11,
   "metadata": {
    "pycharm": {
     "name": "#%%\n"
    }
   },
   "outputs": [
    {
     "name": "stdout",
     "output_type": "stream",
     "text": [
      "$340 thousand dollars\n"
     ]
    }
   ],
   "source": [
    "w = 200                         \n",
    "b = 100    \n",
    "x_i = 1.2\n",
    "cost_1200sqft = w * x_i + b    \n",
    "\n",
    "print(f\"${cost_1200sqft:.0f} thousand dollars\")"
   ]
  },
  {
   "cell_type": "markdown",
   "metadata": {
    "pycharm": {
     "name": "#%% md\n"
    }
   },
   "source": [
    "# Congratulations!\n",
    "In this lab you have learned:\n",
    " - Linear regression builds a model which establishes a relationship between features and targets\n",
    "     - In the example above, the feature was house size and the target was house price\n",
    "     - for simple linear regression, the model has two parameters $w$ and $b$ whose values are 'fit' using *training data*.\n",
    "     - once a model's parameters have been determined, the model can be used to make predictions on novel data."
   ]
  },
  {
   "cell_type": "code",
   "execution_count": null,
   "metadata": {
    "pycharm": {
     "name": "#%%\n"
    }
   },
   "outputs": [],
   "source": []
  }
 ],
 "metadata": {
  "kernelspec": {
   "display_name": "Python 3",
   "language": "python",
   "name": "python3"
  },
  "language_info": {
   "codemirror_mode": {
    "name": "ipython",
    "version": 3
   },
   "file_extension": ".py",
   "mimetype": "text/x-python",
   "name": "python",
   "nbconvert_exporter": "python",
   "pygments_lexer": "ipython3",
   "version": "3.11.5"
  },
  "toc-autonumbering": false
 },
 "nbformat": 4,
 "nbformat_minor": 5
}
