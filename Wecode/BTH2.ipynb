{
 "cells": [
  {
   "cell_type": "markdown",
   "metadata": {},
   "source": [
    "Count right turns in a list of points"
   ]
  },
  {
   "cell_type": "code",
   "execution_count": 8,
   "metadata": {},
   "outputs": [
    {
     "name": "stdout",
     "output_type": "stream",
     "text": [
      "3\n"
     ]
    }
   ],
   "source": [
    "n = int(input())\n",
    "points = []\n",
    "for i in range(n):\n",
    "    a = [int(x) for x in input().strip().split()]\n",
    "    points.append(a)\n",
    "cnt = 0\n",
    "for i in range(1,n-1):\n",
    "    vecto1 = ((points[i][0]-points[i-1][0],points[i][1]-points[i-1][1] ))\n",
    "    vecto2 = ((points[i+1][0]-points[i][0],points[i+1][1]-points[i][1] ))\n",
    "    dot = vecto1[0]*vecto2[1] - vecto1[1]*vecto2[0]\n",
    "    if dot < 0:\n",
    "        cnt += 1\n",
    "print(cnt)"
   ]
  },
  {
   "cell_type": "markdown",
   "metadata": {},
   "source": [
    "Viết hàm đảo mảng 2 chiều thành mảng đối xứng của nó theo trục ngang\n",
    "\n",
    "INPUT\n",
    "Dòng đầu tiên chứa hai số r và c là số dòng và số cột của mảng, mỗi số không quá 1000.\n",
    "\n",
    "r dòng tiếp theo, mỗi dòng chứa c số nguyên. Đây là các phần tử trong mảng 2 chiều\n",
    "\n",
    "OUTPUT\n",
    "Mảng sau khi đảo"
   ]
  },
  {
   "cell_type": "code",
   "execution_count": 15,
   "metadata": {},
   "outputs": [
    {
     "name": "stdout",
     "output_type": "stream",
     "text": [
      "3 4 5 6\n",
      "2 3 4 5\n",
      "1 2 3 4\n"
     ]
    }
   ],
   "source": [
    "r, c = map(int, input().split())\n",
    "arr_ = []\n",
    "for i in range(r):\n",
    "    a = [int(x) for x in input().strip().split()]\n",
    "    arr_.append(a)\n",
    "for i in range (r-1,-1,-1):\n",
    "    print(' '.join(map(str, arr_[i])))\n",
    "\n"
   ]
  },
  {
   "cell_type": "markdown",
   "metadata": {},
   "source": [
    "Bình đang làm bài tập mảng 2 chiều nâng rất rất cao. Bình cần xuất mảng ra màn hình để quan sát. Tuy nhiên do các số nguyên trong mảng độ dài khác nhau nên khi xuất ra nhìn rất lộn xộn, không biết được số nào ở cột nào. Bạn hãy viết giúp Bình hàm xuất mảng một cách ngay ngắn.\n",
    "\n",
    "INPUT\n",
    "Dòng đầu tiên chứa hai số r và c là số dòng và số cột của mảng, mỗi số không quá 1000.\n",
    "\n",
    "r dòng tiếp theo, mỗi dòng chứa c số nguyên. Đây là các phần tử trong mảng 2 chiều\n",
    "\n",
    "OUTPUT\n",
    "Mảng 2 chiều được canh lề phải ở các cột. Tức là chữ số cuối cùng của các cột được viết thẳng hàng với nhau. Các chỗ trống được lấp đầy bằng ký tự khoảng trắng\n",
    "\n",
    "Lưu ý là đê đảm bảo chính xác ở cuối mỗi dòng của ma trận chỉ được xuất ký tự xuống dòng, không được xuất khoảng trắng thừa."
   ]
  },
  {
   "cell_type": "code",
   "execution_count": 1,
   "metadata": {},
   "outputs": [
    {
     "name": "stdout",
     "output_type": "stream",
     "text": [
      "111 111 111111\n",
      "  1   1      1\n"
     ]
    }
   ],
   "source": [
    "def print_aligned_array(arr):\n",
    "    max_lengths = [max(map(len, map(str, col))) for col in zip(*arr)]\n",
    "    for row in arr:\n",
    "        print(' '.join(f'{elem:>{length}}' for elem, length in zip(row, max_lengths)))\n",
    "\n",
    "r, c = map(int, input().split())\n",
    "arr_ = [list(map(int, input().strip().split())) for _ in range(r)]\n",
    "\n",
    "print_aligned_array(arr_)\n"
   ]
  },
  {
   "cell_type": "code",
   "execution_count": 8,
   "metadata": {},
   "outputs": [
    {
     "name": "stdout",
     "output_type": "stream",
     "text": [
      "1111111111 1\n",
      "         1 1\n"
     ]
    }
   ],
   "source": [
    "def print_aligned_array(arr):\n",
    "    max_lengths = [max(len(str(max(row))), len(str(min(row)))) for row in arr]\n",
    "    for row in arr:\n",
    "        print(' '.join(f'{elem:>{length}}' for elem, length in zip(row, max_lengths)))\n",
    "\n",
    "r, c = map(int, input().split())\n",
    "arr_ = [list(map(int, input().strip().split())) for _ in range(r)]\n",
    "\n",
    "print_aligned_array(arr_)\n"
   ]
  },
  {
   "cell_type": "markdown",
   "metadata": {},
   "source": [
    "Cho một mảng trong đó mỗi số chỉ xuất hiện 1 lần, đếm xem cần phải chèn vào mảng ít nhất bao nhiêu phần tử để mảng chứa tất cả số nguyên trên một đoạn liên tục.\n",
    "\n",
    "INPUT\n",
    "Dòng đầu tiên chứa số n (n < 100000), là số lượng phần tử của mảng.\n",
    "\n",
    "n dòng tiếp theo, mỗi dòng chứa một số nguyên, đây là các phần tử của mảng.\n",
    "\n",
    "OUTPUT\n",
    "Số phần tử tối thiểu cần thêm vào mảng để mảng chứa toàn bộ số tự nhiên liên tiếp và không chứa bất cứ số nào khác."
   ]
  },
  {
   "cell_type": "code",
   "execution_count": 35,
   "metadata": {},
   "outputs": [
    {
     "name": "stdout",
     "output_type": "stream",
     "text": [
      "2\n"
     ]
    }
   ],
   "source": [
    "n = int(input())\n",
    "arr = [int(input().strip()) for _ in range(n)]\n",
    "\n",
    "m = max(arr)\n",
    "mi = min(arr)\n",
    "cnt = 0\n",
    "cnt = sum(1 for i in range(mi, m) if i not in arr)\n",
    "\n",
    "print(cnt)"
   ]
  },
  {
   "cell_type": "markdown",
   "metadata": {},
   "source": [
    "Bristleback là một hero vô cùng khó chịu trong dota với bộ skill cộng hưởng tốt và vô cùng khó giết. Một trong những skill gây sát thương chủ lực của bristleback là Quills spray. Chiêu này bắn các gai nhọn trên lưng bristleback ra xung quanh khiến các hero địch không thể tránh né được. Tuy chỉ gây một lượng sát thương ban đầu không lớn chiêu này sẽ để lại gai nhọn cắm trên người hero địch. Ở lần cast chiêu tiếp theo các gai nhọn được cắm sẵn này sẽ gây thêm một lượng sát thương nữa. Các gai nhọn này tồn tại độc lập với nhau, không có cách nào gỡ ra và chỉ có thể chờ chúng tự mất đi sau một thời gian nhất định.\n",
    "\n",
    "\n",
    "\n",
    "Cho biết các thời điểm một hero bị dính skill qullspray của bristleback. Hãy cho biết tổng lượng sát thương mà heroes đó đã nhận.\n",
    "\n",
    "GHI CHÚ: Trường hợp hero dính đòn quillspary ngay đúng thời điểm một gai nhọn mất đi thì hero vẫn nhận lượng sát thương cộng thêm rồi gai nhọn mới mất. Để có kết quả chính xác các số thực cần được lưu bằng kiểu double \n",
    "\n",
    "INPUT\n",
    "Dòng đầu tiên chứa số n (n < 10000), đây là số lần hero dính skill quillspray.\n",
    "\n",
    "Dòng tiếp theo chứa n số thực, đây là các thời điểm hero dính skill quillspray, xếp theo đúng thứ tự thời gian\n",
    "\n",
    "Dòng tiếp theo chứa số x, đây là lượng sát thương cơ bản của một lần qullspray\n",
    "\n",
    "Dòng tiếp theo chứa só y, đây là lượng sát thương tăng thêm mà mỗi gai nhọn đang dính trên người hero sẽ gây ra khi bị dính skill quillspray.\n",
    "\n",
    "Dòng cuối cùng chứa số z. Đây là thời gian cần thiết để một gai nhọn mất đi sau khi nó được cắm trên người.\n",
    "\n",
    "OUTPUT\n",
    "Tổng lượng sát thương\n",
    "\n",
    "Input\n",
    "5\n",
    "4.9 12.6 19.1 22.9 46.2\n",
    "65\n",
    "51\n",
    "15.0\n",
    "\n",
    "Output\n",
    "580\n",
    "\t\n",
    "Giải thích\n",
    "Ở giây 4,9 hero dính skill lần đầu, lãnh 65 sát thương và dính 1 gai nhọn\n",
    "\n",
    "Ở  giây 12,6 hero dính skill lãnh thêm 65 sát thương, đang có 1 gai nhọn nên lãnh thêm 51 sát thương nữa, và hiện giờ dính 02 gai nhọn.\n",
    "\n",
    "Ở  giây 19,1 hero dính skill lãnh thêm 65 sát thương, đang có 2 gai nhọn nên lãnh thêm 102 sát thương nữa, và hiện giờ dính 03 gai nhọn\n",
    "\n",
    "Ở  giây 22,9. Gai nhọn ở giây 4,9 đã mất nên hero chỉ còn 02 gai nhọn. Hero dính skill lãnh thêm 65 sát thương, đang có 02 gai nhọn nên lãnh thêm 102 sát thương nữa, và hiện giờ dính 03 gai nhọn\n",
    "\n",
    "Ở  giây 46,2. Tất cả gai nhọn đã mất. hero dính skill lãnh thêm 65 sát thương\n",
    "\n",
    "Tổng sát thương là  65+65+51+65+102+65+102+65 = 580"
   ]
  },
  {
   "cell_type": "code",
   "execution_count": 2,
   "metadata": {},
   "outputs": [],
   "source": [
    "n = int(input())\n",
    "a = [float(x) for x in input().strip().split()]\n",
    "x = int(input())\n",
    "y = int(input())\n",
    "z = float(input())"
   ]
  },
  {
   "cell_type": "code",
   "execution_count": 9,
   "metadata": {},
   "outputs": [
    {
     "name": "stdout",
     "output_type": "stream",
     "text": [
      "425\n"
     ]
    }
   ],
   "source": [
    "def solution(n,a,x,y,z):\n",
    "    cnt = 0\n",
    "    for i in range(n-1):\n",
    "        etime = a[i] + z\n",
    "        for j in range(i+1,n):\n",
    "            if a[j] <= etime:\n",
    "                cnt += 1\n",
    "            else:\n",
    "                break\n",
    "    return cnt\n",
    "    \n",
    "n = int(input())\n",
    "a = [float(x) for x in input().strip().split()]\n",
    "x = int(input())\n",
    "y = int(input())\n",
    "z = float(input())\n",
    "\n",
    "print(solution(n,a,x,y,z))"
   ]
  },
  {
   "cell_type": "markdown",
   "metadata": {},
   "source": [
    "Từ xa xưa, hình ảnh con đò bến nước đã đi vào trong thi ca và trong tâm tưởng dân tộc. Hình ảnh con đò ngày ngày đưa khách sang sông in đậm trong tâm trí nhiều người và đôi khi còn được dùng để so sánh với nghề dạy học.\n",
    "\n",
    "Mở rộng hình ảnh của những con đò chính là những chiếc phà, không chỉ chở được khách mà còn chở được cả xe của khách sang sông. Phà là một loại tàu lớn, có 2 đầu y như nhau, xe chạy lên ở một đầu và chạy xuống ở đầu kia. Mỗi đầu của phà tương ứng với một bờ của con sông, phà luôn luôn cập đầu bên phải và bờ bên phải và ngược lại, không bao giờ đổi đầu nhằm tối ưu thời gian chuyên chơn.\n",
    "\n",
    "Trên con sông kia có một chiếc phà dài l mét hàng ngày chở khách qua sông. Bỗng một hôm phà bị hư phải nằm sửa ở tả ngạn con sông, xe đến không qua được sông xếp thành hàng dài hai bên bờ bấm kèn inh ỏi nhức óc đinh tai. Một sinh viên UIT bị kẹt trong hàng xe dài đằng đẵng kia quyết định giết thời gian bằng cách viết một chương trình tính toán số lần phà sẽ phải chạy để đưa hết hàng xe đang đợi qua sông khi nó hoạt động trở lại. Hãy giúp bạn ấy.\n",
    "\n",
    "Input\n",
    "Mỗi test bắt đầu bằng hai con số nguyên 1≤l≤500 and 1≤m≤10000. Trong dó l là chiều dài của phà (tính bằng mét) và m là số lượng xe đang kẹt hai bên bờ. m dòng tiếp theo, đại diên cho các xe đang chờ phà theo đúng thứ tự. Mỗi dòng chứa hai thông tin là lượt là chiều dài xe (tính bằng centimét và là một số nguyên dương không quá 100000) và vị trí của bờ mà xe đang đậu (biểu diễn bằng một trong hai giá trị (“left” hoặc “right”))\n",
    "\n",
    "Output\n",
    "Số lượt qua sông phà phải chạy để chở hết số xe trên"
   ]
  },
  {
   "cell_type": "code",
   "execution_count": 16,
   "metadata": {},
   "outputs": [
    {
     "name": "stdout",
     "output_type": "stream",
     "text": [
      "2\n"
     ]
    }
   ],
   "source": [
    "l,m = map(int,input().split())\n",
    "arr_left = []\n",
    "arr_right = []\n",
    "for i in range(m):\n",
    "    length, pos = input().split()\n",
    "    if pos == \"left\":\n",
    "        arr_left.append(int(length))\n",
    "    else:\n",
    "        arr_right.append(int(length))\n",
    "l_boat = l*100\n",
    "left_index = 0\n",
    "right_index = 0\n",
    "count_left = 0\n",
    "count_right = 0\n",
    "while (left_index <= len(arr_left)-1) or (right_index <= len(arr_right)-1):\n",
    "    sum_left = 0\n",
    "    sum_right = 0\n",
    "    while ((left_index <= len(arr_left)-1)):\n",
    "        temp_sum = sum_left + arr_left[left_index]\n",
    "        if temp_sum <= l_boat:\n",
    "            sum_left = temp_sum\n",
    "            left_index += 1\n",
    "        else:\n",
    "            break\n",
    "    if sum_left > 0:\n",
    "        count_left += 1\n",
    "    while (right_index <= len(arr_right)-1):\n",
    "        temp_sum = sum_right + arr_right[right_index]\n",
    "        if temp_sum <= l_boat:\n",
    "            sum_right = temp_sum\n",
    "            right_index += 1\n",
    "        else:\n",
    "            break\n",
    "    if sum_right > 0:\n",
    "        count_right += 1\n",
    "print(max([2*count_left-1 , 2*count_right]))"
   ]
  },
  {
   "cell_type": "code",
   "execution_count": 2,
   "metadata": {},
   "outputs": [],
   "source": [
    "def calculate_ferry_trips(l, m, cars):\n",
    "    left_cars = [car[0] for car in cars if car[1] == \"left\"]\n",
    "    right_cars = [car[0] for car in cars if car[1] == \"right\"]\n",
    "    left_cars.sort(reverse=True)\n",
    "    right_cars.sort(reverse=True)\n",
    "\n",
    "    trips = 0\n",
    "    left_pos = 0\n",
    "    right_pos = 0\n",
    "    while left_pos < len(left_cars) or right_pos < len(right_cars):\n",
    "        space_left = l\n",
    "        while left_pos < len(left_cars) and left_cars[left_pos] <= space_left:\n",
    "            space_left -= left_cars[left_pos]\n",
    "            left_pos += 1\n",
    "        if space_left < l:\n",
    "            trips += 1\n",
    "\n",
    "        space_left = l\n",
    "        while right_pos < len(right_cars) and right_cars[right_pos] <= space_left:\n",
    "            space_left -= right_cars[right_pos]\n",
    "            right_pos += 1\n",
    "        if space_left < l:\n",
    "            trips += 1\n",
    "\n",
    "    return trips\n",
    "\n",
    "l, m = map(int, input().split())\n",
    "cars = []\n",
    "for _ in range(m):\n",
    "    car_length, car_position = input().split()\n",
    "    cars.append((int(car_length), car_position))\n",
    "\n",
    "print(calculate_ferry_trips(l, m, cars))\n"
   ]
  },
  {
   "cell_type": "markdown",
   "metadata": {},
   "source": [
    "Cho một mảng xém đối xứng. Hỏi nếu ta có thể tùy ý thay đổi một số nào đó trong mảng thì ta có thể biến mảng này thành mảng đối xứng hay không\n",
    "\n",
    "INPUT\n",
    "Dòng đầu tiên chứa số n (n < 1000000). Đây là số lượng phần tử trong mảng.\n",
    "\n",
    "n dòng tiếp theo, mỗi dòng là một số nguyên dương có giá trị không quá một tỷ.\n",
    "\n",
    "OUTPUT\n",
    "xuất ra chữ TRUE nếu có thể biến mảng thành đối xứng. Ngược lại xuất chứ FALSE."
   ]
  },
  {
   "cell_type": "code",
   "execution_count": 1,
   "metadata": {},
   "outputs": [
    {
     "name": "stdout",
     "output_type": "stream",
     "text": [
      "FALSE\n"
     ]
    }
   ],
   "source": [
    "n = int(input())\n",
    "arr = [input().strip() for _ in range(n)]\n",
    "check = 0\n",
    "j = -1\n",
    "for i in range(int(n/2)):\n",
    "    if arr[i]  != arr[j]:\n",
    "            check += 1\n",
    "    if check > 1:\n",
    "        break\n",
    "    j -= 1\n",
    "    \n",
    "if check > 1:\n",
    "    print(\"FALSE\")\n",
    "else:\n",
    "    print(\"TRUE\")"
   ]
  },
  {
   "cell_type": "markdown",
   "metadata": {},
   "source": [
    "Bài 4: Chu vi đường biên\n",
    "Sau bao năm trời code thuê cày mướn, cắc củm dành dụm Bình cũng thuê được nhà. Ngày đầu tiên về sơn lại nhà mới Bình lại làm rơi nguyên thùng sơn xuống sàn. Sơn chảy ra nền nhà thành một vũng to trải trên nhiều viên gạch, Bình lại ngứa nghề tự hỏi không biết ranh giới của vùng gạch bị dính sơn là bao nhiêu? Bạn hãy viết chương trình tính giúp bình, xem mỗi cạnh ô gạch có độ dài 1 đơn vị\n",
    "\n",
    "INPUT\n",
    "Dòng đầu tiên chứa hai số tự nhiên m và n là kích thước sàn nhà của Bình (đơn vị là ô gạch)\n",
    "\n",
    "m dòng tiếp theo mỗi dòng chứa n số nguyên mang giá trị:\n",
    "\n",
    "Số 0 đại diện cho ô gạch chưa dính sơn\n",
    "Số 1 đại diện cho ô gạch đã bị dính sơn\n",
    "OUTPUT\n",
    "Độ dài ranh giới"
   ]
  },
  {
   "cell_type": "code",
   "execution_count": null,
   "metadata": {},
   "outputs": [],
   "source": [
    "m,n=map(int,input().split())\n",
    "grid=[]\n",
    "for _ in range(m):\n",
    "    row = list(map(int, input().split()))\n",
    "    grid.append(row)\n",
    "total=0\n",
    "for row in grid:\n",
    "    total+=sum(num for num in row)\n",
    "total*=4\n",
    "count=0\n",
    "for row in grid:\n",
    "    for i in range(n-1):\n",
    "        if(row[i]==1 and row[i+1]==1):\n",
    "            count+=1\n",
    "for col in zip(*grid):\n",
    "   for i in range(m-1):\n",
    "        if(col[i]==1 and col[i+1]==1):\n",
    "            count+=1 \n",
    "result=total-count*2\n",
    "print(result)"
   ]
  },
  {
   "cell_type": "markdown",
   "metadata": {},
   "source": [
    "Cho một mảng hai chiều các số nguyên. Hãy thực hiện dịch chuyển các phần tử ở rìa của mảng. Trong đó rìa thứ i sẽ dịch chuyển theo chiều kim đồng hồ nếu i là số chẵn và ngược chiều kim đồng hồ nếu i là số lẻ.\n",
    "\n",
    "Rìa thứ i của mảng được định nghĩa như sau:\n",
    "\n",
    "Rìa thứ 0 là hợp của dòng trên cùng, dòng cuối cùng, cột ngoài cùng bên trái và cột ngoài cùng bên phải.\n",
    "Nếu ta xóa rìa thứ 0 của mảng ban đầu ta sẽ thu được một mảng mới. Rìa thứ 0 của mảng mới chính là rìa thứ 1 của mảng ban đầu.\n",
    "Tương tự cho rìa thứ 2 và rìa thứ 3\n",
    "INPUT\n",
    "Dòng đầu tiên chứa hai số r và c là số dòng và số cột của mảng.\n",
    "\n",
    "r dòng tiếp theo, mỗi dòng chứa c số nguyên. Đây là các phần tử trong mảng 2 chiều\n",
    "\n",
    "OUTPUT\n",
    "Mảng sau khi dịch chuyển tất cả các rìa"
   ]
  },
  {
   "cell_type": "code",
   "execution_count": null,
   "metadata": {},
   "outputs": [],
   "source": []
  },
  {
   "cell_type": "markdown",
   "metadata": {},
   "source": [
    "Cho một mảng xém đối xứng. Hỏi nếu ta có thể tùy ý thay đổi một số nào đó trong mảng thì ta có thể biến mảng này thành mảng đối xứng hay không\n",
    "\n",
    "INPUT\n",
    "Dòng đầu tiên chứa số n (n < 1000000). Đây là số lượng phần tử trong mảng.\n",
    "\n",
    "n dòng tiếp theo, mỗi dòng là một số nguyên dương có giá trị không quá một tỷ.\n",
    "\n",
    "OUTPUT\n",
    "xuất ra chữ TRUE nếu có thể biến mảng thành đối xứng. Ngược lại xuất chứ FALSE."
   ]
  },
  {
   "cell_type": "code",
   "execution_count": 15,
   "metadata": {},
   "outputs": [
    {
     "name": "stdout",
     "output_type": "stream",
     "text": [
      "TRUE\n"
     ]
    }
   ],
   "source": [
    "n = int(input())\n",
    "arr = [input().strip() for _ in range(n)]\n",
    "check = 0\n",
    "for i in range(int(n/2)):\n",
    "    if arr[i]  != arr[n-i-1]:\n",
    "            check += 1  \n",
    "    if check > 1:\n",
    "        break\n",
    "\n",
    "if (check == 1) or (check == 0 and n%2==1):\n",
    "    print(\"TRUE\")\n",
    "else:\n",
    "    print(\"FALSE\")"
   ]
  },
  {
   "cell_type": "code",
   "execution_count": null,
   "metadata": {},
   "outputs": [],
   "source": []
  }
 ],
 "metadata": {
  "kernelspec": {
   "display_name": "Python 3",
   "language": "python",
   "name": "python3"
  },
  "language_info": {
   "codemirror_mode": {
    "name": "ipython",
    "version": 3
   },
   "file_extension": ".py",
   "mimetype": "text/x-python",
   "name": "python",
   "nbconvert_exporter": "python",
   "pygments_lexer": "ipython3",
   "version": "3.11.5"
  }
 },
 "nbformat": 4,
 "nbformat_minor": 2
}
