{
 "cells": [
  {
   "cell_type": "markdown",
   "metadata": {},
   "source": [
    "1. down heap\n",
    "Nhập một mảng số nguyên và thực hiện các thao tác sau:\n",
    "\n",
    "Xóa số lớn nhất ra khỏi mảng (nếu số lớn nhất xuất hiện ở nhiều vị trí thì xóa tại một vị trí nào cũng được)\n",
    "Xóa tất cả số lớn nhất trong mảng ra khỏi mảng.\n",
    "Giảm đi giá trị số lớn nhất trong mảng một lượng được cho(nếu số lớn nhất xuất hiện ở nhiều vị trí thì giảm tại một vị trí nào cũng được)\n",
    "Giảm đi giá trị của tất cả số lớn nhất trong mảng một lượng được cho\n",
    "INPUT\n",
    "Dòng đầu tiên là số là hai số n và m (n,m < 1000000) đây là số lượng phần tử trong mảng và số thao tác cần thực hiện\n",
    "\n",
    "n dòng tiếp theo mỗi dòng là một số nguyên dương, đây là giá trị của các phần tử trong mảng\n",
    "\n",
    "m dòng cuối cùng trong input, mỗi dòng chứa mang một trong 4 giá trị {-1, - 2, -3,  -4} tương ứng với 4 thao tác cần thực hiện đã mô tả ở trên\n",
    "\n",
    "OUTPUT\n",
    "Xuất ra mảng sau khi thực hiện tất cả m thao tác ra màn hình. Mảng được xuất với thứ tự giảm dần"
   ]
  },
  {
   "cell_type": "code",
   "execution_count": 17,
   "metadata": {
    "vscode": {
     "languageId": "powershell"
    }
   },
   "outputs": [
    {
     "name": "stdout",
     "output_type": "stream",
     "text": [
      "Overwriting sol1.py\n"
     ]
    }
   ],
   "source": [
    "%%writefile sol1.py\n",
    "import sys \n",
    "import heapq\n",
    "\n",
    "def solve(arr,operations):\n",
    "    heap = []\n",
    "    for num in arr:\n",
    "        heapq.heappush(heap, -num)\n",
    "\n",
    "    for op in operations:\n",
    "        #Xóa số lớn nhất\n",
    "        if op[0] == -1:\n",
    "            heapq.heappop(heap)\n",
    "        #Xóa tất cả số lớn nhất\n",
    "        elif op[0] == -2:\n",
    "            max_val = heap[0]\n",
    "            while heap and heap[0] == max_val:\n",
    "                heapq.heappop(heap)\n",
    "        #Giảm đi giá trị số lớn nhất trong mảng một lượng \n",
    "        elif op[0] == -3:\n",
    "            max_val = heap[0]\n",
    "            idx = heap.index(max_val)\n",
    "            heap[idx] += op[1]\n",
    "            heapq.heapify(heap)\n",
    "        #Giảm đi giá trị của tất cả số lớn nhất trong mảng một lượng\n",
    "        elif op[0] == -4:\n",
    "            max_val = heap[0]\n",
    "            for i in range(len(heap)):\n",
    "                if heap[i] == max_val:\n",
    "                    heap[i] += op[1]\n",
    "                else:\n",
    "                    break\n",
    "            heapq.heapify(heap)\n",
    "    return [-x for x in heap]\n",
    "\n",
    "n, m = map(int, sys.stdin.readline().split())\n",
    "arr = [int(sys.stdin.readline()) for _ in range(n)]\n",
    "operations = [list(map(int, sys.stdin.readline().split())) for _ in range(m)]\n",
    "\n",
    "result = sorted(solve(arr, operations), reverse = True)\n",
    "\n",
    "for num in result:\n",
    "    print(num)\n"
   ]
  },
  {
   "cell_type": "code",
   "execution_count": 18,
   "metadata": {
    "vscode": {
     "languageId": "powershell"
    }
   },
   "outputs": [
    {
     "name": "stdout",
     "output_type": "stream",
     "text": [
      "3976\n",
      "3968\n",
      "3884\n",
      "3884\n",
      "3835\n",
      "3730\n",
      "3704\n",
      "3432\n",
      "3365\n",
      "3125\n",
      "3076\n",
      "2878\n",
      "2820\n",
      "2788\n",
      "2411\n",
      "2400\n",
      "2390\n",
      "2310\n",
      "2158\n",
      "2048\n",
      "1712\n",
      "1708\n",
      "1495\n",
      "1458\n",
      "1261\n",
      "1070\n",
      "927\n",
      "815\n",
      "650\n",
      "640\n",
      "622\n",
      "588\n",
      "549\n",
      "540\n",
      "525\n",
      "488\n",
      "452\n",
      "62\n",
      "27\n",
      "0\n",
      "0\n"
     ]
    }
   ],
   "source": [
    "!python sol1.py < test1.txt"
   ]
  }
 ],
 "metadata": {
  "kernelspec": {
   "display_name": "Python 3",
   "language": "python",
   "name": "python3"
  },
  "language_info": {
   "codemirror_mode": {
    "name": "ipython",
    "version": 3
   },
   "file_extension": ".py",
   "mimetype": "text/x-python",
   "name": "python",
   "nbconvert_exporter": "python",
   "pygments_lexer": "ipython3",
   "version": "3.11.5"
  }
 },
 "nbformat": 4,
 "nbformat_minor": 2
}
