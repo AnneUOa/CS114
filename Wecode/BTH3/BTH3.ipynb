{
 "cells": [
  {
   "cell_type": "markdown",
   "metadata": {},
   "source": [
    "1. Tìm vị trí\n",
    "Viết chương trình tìm kiếm một số trong mảng tăng dần với yêu cầu như sau:\n",
    "\n",
    "INPUT\n",
    "Dòng đầu tiên chứa số n (không quá một triệu), là số phần tử trong mảng\n",
    "\n",
    "Dòng thứ hai chứ n số nguyên dương (không quá một tỷ), cách nhau bởi khoảng trắng, đây là các phần tử của mảng\n",
    "\n",
    "Dòng thứ ba chưa số m (không quá một triệu), đây là số lượng số cần phải tìm.\n",
    "\n",
    "Dòng cuối cùng của input chứa m số nguyên dương x1, x2, ..., xm, giá trị mỗi số không quá một tỷ. Đây là các số cần tìm.\n",
    "\n",
    "OUPUT\n",
    "Ứng với mỗi số cần tìm, xuất ra trên một dòng vị trí của số đó trong mảng. Quy ước số đầu tiên của mảng có vị trí là 0 và nếu số cần tìm không có trong mảng xuất ra -1. Nếu số cần tìm xuất hiện ở nhiều vị trí trong mảng, xuất ra vị trí ở gần phía cuối mảng nhất. Lưu ý là trong mảng có thể có những số lặp đi lặp lại CỰC KỲ NHIỀU lần."
   ]
  },
  {
   "cell_type": "code",
   "execution_count": 14,
   "metadata": {},
   "outputs": [
    {
     "name": "stdout",
     "output_type": "stream",
     "text": [
      "Overwriting gentest1.py\n"
     ]
    }
   ],
   "source": [
    "%%writefile gentest1.py\n",
    "import random\n",
    "\n",
    "n,m = 7,6\n",
    "\n",
    "print(n)\n",
    "print(*sorted([random.randint(-n,n) for i in range(n)]))\n",
    "print(m)\n",
    "print(*[random.randint(-n,n) for i in range(m)])"
   ]
  },
  {
   "cell_type": "code",
   "execution_count": 15,
   "metadata": {
    "vscode": {
     "languageId": "powershell"
    }
   },
   "outputs": [],
   "source": [
    "!python gentest1.py > test1.txt"
   ]
  },
  {
   "cell_type": "code",
   "execution_count": 19,
   "metadata": {},
   "outputs": [
    {
     "name": "stdout",
     "output_type": "stream",
     "text": [
      "Overwriting sol1.py\n"
     ]
    }
   ],
   "source": [
    "%%writefile sol1.py\n",
    "import sys\n",
    "\n",
    "n = int(sys.stdin.readline())\n",
    "a = ( list(reversed(list(map(int, sys.stdin.readline().strip().split())))))\n",
    "m = int(sys.stdin.readline())\n",
    "b = list(map(int, sys.stdin.readline().strip().split()))\n",
    "\n",
    "for i in b:\n",
    "    try:\n",
    "        print(len(a) - 1 - a.index(i))\n",
    "    except:\n",
    "        print(-1)"
   ]
  },
  {
   "cell_type": "code",
   "execution_count": 20,
   "metadata": {
    "vscode": {
     "languageId": "powershell"
    }
   },
   "outputs": [
    {
     "name": "stdout",
     "output_type": "stream",
     "text": [
      "-1\n",
      "-1\n",
      "0\n",
      "-1\n",
      "6\n",
      "0\n"
     ]
    }
   ],
   "source": [
    "!python sol1.py < test1.txt"
   ]
  }
 ],
 "metadata": {
  "kernelspec": {
   "display_name": "Python 3",
   "language": "python",
   "name": "python3"
  },
  "language_info": {
   "codemirror_mode": {
    "name": "ipython",
    "version": 3
   },
   "file_extension": ".py",
   "mimetype": "text/x-python",
   "name": "python",
   "nbconvert_exporter": "python",
   "pygments_lexer": "ipython3",
   "version": "3.11.5"
  }
 },
 "nbformat": 4,
 "nbformat_minor": 2
}
